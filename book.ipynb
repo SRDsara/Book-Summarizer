{
 "cells": [
  {
   "cell_type": "code",
   "execution_count": 31,
   "id": "3f278b63",
   "metadata": {
    "scrolled": true
   },
   "outputs": [],
   "source": [
    "import pandas as pd\n",
    "import numpy as np\n",
    "import ast\n",
    "import re\n",
    "import string\n",
    "from nltk.corpus import stopwords\n",
    "import nltk\n",
    "from nltk.stem.porter import PorterStemmer\n",
    "from nltk.stem import WordNetLemmatizer\n",
    "from nltk.tokenize import word_tokenize, sent_tokenize"
   ]
  },
  {
   "cell_type": "code",
   "execution_count": 32,
   "id": "ae6c184f",
   "metadata": {},
   "outputs": [],
   "source": [
    "stemmer = PorterStemmer()\n",
    "lemmatizer = WordNetLemmatizer()"
   ]
  },
  {
   "cell_type": "code",
   "execution_count": 33,
   "id": "9af30e73",
   "metadata": {},
   "outputs": [],
   "source": [
    "with open(r\"C:\\Users\\saras\\Downloads\\booksummaries.txt\", encoding=\"utf8\") as file:\n",
    "    data = file.readlines()"
   ]
  },
  {
   "cell_type": "code",
   "execution_count": 34,
   "id": "25585496",
   "metadata": {},
   "outputs": [],
   "source": [
    "dataset = []\n",
    "for line in data:    \n",
    "    parts = line.split('\\t')\n",
    "    book_id = parts[0]\n",
    "    name = parts[2]\n",
    "    author = parts[3]\n",
    "    publish_year = parts[4]\n",
    "    genres = parts[5]\n",
    "    summary = parts[6]\n",
    "    books = {\"id\":book_id, \"name\":name, \"author\":author, \"publish year\":publish_year, \"genres\":genres, \"summary\":summary}\n",
    "    dataset.append(books)\n",
    "    \n",
    "df = pd.DataFrame(dataset)"
   ]
  },
  {
   "cell_type": "code",
   "execution_count": 35,
   "id": "058cf817",
   "metadata": {},
   "outputs": [],
   "source": [
    "df_output = df[[\"name\",\"summary\"]]"
   ]
  },
  {
   "cell_type": "code",
   "execution_count": 36,
   "id": "3df13cc7",
   "metadata": {
    "scrolled": true
   },
   "outputs": [
    {
     "name": "stdout",
     "output_type": "stream",
     "text": [
      "<class 'pandas.core.frame.DataFrame'>\n",
      "RangeIndex: 16559 entries, 0 to 16558\n",
      "Data columns (total 6 columns):\n",
      " #   Column        Non-Null Count  Dtype \n",
      "---  ------        --------------  ----- \n",
      " 0   id            16559 non-null  object\n",
      " 1   name          16559 non-null  object\n",
      " 2   author        16559 non-null  object\n",
      " 3   publish year  16559 non-null  object\n",
      " 4   genres        16559 non-null  object\n",
      " 5   summary       16559 non-null  object\n",
      "dtypes: object(6)\n",
      "memory usage: 776.3+ KB\n"
     ]
    }
   ],
   "source": [
    "df.info()"
   ]
  },
  {
   "cell_type": "code",
   "execution_count": 37,
   "id": "42b972cb",
   "metadata": {},
   "outputs": [
    {
     "data": {
      "text/html": [
       "<div>\n",
       "<style scoped>\n",
       "    .dataframe tbody tr th:only-of-type {\n",
       "        vertical-align: middle;\n",
       "    }\n",
       "\n",
       "    .dataframe tbody tr th {\n",
       "        vertical-align: top;\n",
       "    }\n",
       "\n",
       "    .dataframe thead th {\n",
       "        text-align: right;\n",
       "    }\n",
       "</style>\n",
       "<table border=\"1\" class=\"dataframe\">\n",
       "  <thead>\n",
       "    <tr style=\"text-align: right;\">\n",
       "      <th></th>\n",
       "      <th>id</th>\n",
       "      <th>name</th>\n",
       "      <th>author</th>\n",
       "      <th>publish year</th>\n",
       "      <th>genres</th>\n",
       "      <th>summary</th>\n",
       "    </tr>\n",
       "  </thead>\n",
       "  <tbody>\n",
       "    <tr>\n",
       "      <th>0</th>\n",
       "      <td>620</td>\n",
       "      <td>Animal Farm</td>\n",
       "      <td>George Orwell</td>\n",
       "      <td>1945-08-17</td>\n",
       "      <td>{\"/m/016lj8\": \"Roman \\u00e0 clef\", \"/m/06nbt\":...</td>\n",
       "      <td>Old Major, the old boar on the Manor Farm, ca...</td>\n",
       "    </tr>\n",
       "    <tr>\n",
       "      <th>1</th>\n",
       "      <td>843</td>\n",
       "      <td>A Clockwork Orange</td>\n",
       "      <td>Anthony Burgess</td>\n",
       "      <td>1962</td>\n",
       "      <td>{\"/m/06n90\": \"Science Fiction\", \"/m/0l67h\": \"N...</td>\n",
       "      <td>Alex, a teenager living in near-future Englan...</td>\n",
       "    </tr>\n",
       "    <tr>\n",
       "      <th>2</th>\n",
       "      <td>986</td>\n",
       "      <td>The Plague</td>\n",
       "      <td>Albert Camus</td>\n",
       "      <td>1947</td>\n",
       "      <td>{\"/m/02m4t\": \"Existentialism\", \"/m/02xlf\": \"Fi...</td>\n",
       "      <td>The text of The Plague is divided into five p...</td>\n",
       "    </tr>\n",
       "    <tr>\n",
       "      <th>3</th>\n",
       "      <td>1756</td>\n",
       "      <td>An Enquiry Concerning Human Understanding</td>\n",
       "      <td>David Hume</td>\n",
       "      <td></td>\n",
       "      <td></td>\n",
       "      <td>The argument of the Enquiry proceeds by a ser...</td>\n",
       "    </tr>\n",
       "    <tr>\n",
       "      <th>4</th>\n",
       "      <td>2080</td>\n",
       "      <td>A Fire Upon the Deep</td>\n",
       "      <td>Vernor Vinge</td>\n",
       "      <td></td>\n",
       "      <td>{\"/m/03lrw\": \"Hard science fiction\", \"/m/06n90...</td>\n",
       "      <td>The novel posits that space around the Milky ...</td>\n",
       "    </tr>\n",
       "  </tbody>\n",
       "</table>\n",
       "</div>"
      ],
      "text/plain": [
       "     id                                       name           author  \\\n",
       "0   620                                Animal Farm    George Orwell   \n",
       "1   843                         A Clockwork Orange  Anthony Burgess   \n",
       "2   986                                 The Plague     Albert Camus   \n",
       "3  1756  An Enquiry Concerning Human Understanding       David Hume   \n",
       "4  2080                       A Fire Upon the Deep     Vernor Vinge   \n",
       "\n",
       "  publish year                                             genres  \\\n",
       "0   1945-08-17  {\"/m/016lj8\": \"Roman \\u00e0 clef\", \"/m/06nbt\":...   \n",
       "1         1962  {\"/m/06n90\": \"Science Fiction\", \"/m/0l67h\": \"N...   \n",
       "2         1947  {\"/m/02m4t\": \"Existentialism\", \"/m/02xlf\": \"Fi...   \n",
       "3                                                                   \n",
       "4               {\"/m/03lrw\": \"Hard science fiction\", \"/m/06n90...   \n",
       "\n",
       "                                             summary  \n",
       "0   Old Major, the old boar on the Manor Farm, ca...  \n",
       "1   Alex, a teenager living in near-future Englan...  \n",
       "2   The text of The Plague is divided into five p...  \n",
       "3   The argument of the Enquiry proceeds by a ser...  \n",
       "4   The novel posits that space around the Milky ...  "
      ]
     },
     "execution_count": 37,
     "metadata": {},
     "output_type": "execute_result"
    }
   ],
   "source": [
    "df.head(5)"
   ]
  },
  {
   "cell_type": "code",
   "execution_count": 38,
   "id": "191c7ed4",
   "metadata": {},
   "outputs": [],
   "source": [
    "df.replace(\"\", np.NaN, inplace=True)"
   ]
  },
  {
   "cell_type": "code",
   "execution_count": 39,
   "id": "ad7079fa",
   "metadata": {},
   "outputs": [],
   "source": [
    "df['genres'] = df['genres'].apply(lambda x: list(ast.literal_eval(x).values()) if pd.notna(x) else np.NaN)\n",
    "df['genres'] = df['genres'].apply(lambda x: \", \".join(x) if isinstance(x, list) else np.NaN)"
   ]
  },
  {
   "cell_type": "code",
   "execution_count": 40,
   "id": "4ac81c72",
   "metadata": {},
   "outputs": [],
   "source": [
    "df[\"publish year\"] = df[\"publish year\"].str[:4]"
   ]
  },
  {
   "cell_type": "code",
   "execution_count": 41,
   "id": "24b585a4",
   "metadata": {},
   "outputs": [
    {
     "data": {
      "text/plain": [
       "id                 0\n",
       "name               0\n",
       "author          2382\n",
       "publish year    5610\n",
       "genres          3718\n",
       "summary            0\n",
       "dtype: int64"
      ]
     },
     "execution_count": 41,
     "metadata": {},
     "output_type": "execute_result"
    }
   ],
   "source": [
    "df.isnull().sum()"
   ]
  },
  {
   "cell_type": "code",
   "execution_count": 42,
   "id": "07cc713c",
   "metadata": {},
   "outputs": [
    {
     "data": {
      "text/plain": [
       "0"
      ]
     },
     "execution_count": 42,
     "metadata": {},
     "output_type": "execute_result"
    }
   ],
   "source": [
    "df.duplicated().sum()"
   ]
  },
  {
   "cell_type": "code",
   "execution_count": 43,
   "id": "5e97f265",
   "metadata": {},
   "outputs": [
    {
     "data": {
      "text/plain": [
       "'Nemesis'"
      ]
     },
     "execution_count": 43,
     "metadata": {},
     "output_type": "execute_result"
    }
   ],
   "source": [
    "df[\"name\"].mode()[0]"
   ]
  },
  {
   "cell_type": "code",
   "execution_count": 44,
   "id": "259bcd7a",
   "metadata": {},
   "outputs": [
    {
     "data": {
      "text/plain": [
       "'Agatha Christie'"
      ]
     },
     "execution_count": 44,
     "metadata": {},
     "output_type": "execute_result"
    }
   ],
   "source": [
    "df[\"author\"].mode()[0]"
   ]
  },
  {
   "cell_type": "code",
   "execution_count": 45,
   "id": "ab476236",
   "metadata": {},
   "outputs": [
    {
     "data": {
      "text/plain": [
       "'2007'"
      ]
     },
     "execution_count": 45,
     "metadata": {},
     "output_type": "execute_result"
    }
   ],
   "source": [
    "df[\"publish year\"].mode()[0]"
   ]
  },
  {
   "cell_type": "code",
   "execution_count": 46,
   "id": "5ce8eeea",
   "metadata": {},
   "outputs": [],
   "source": [
    "df[\"publish year\"].fillna(df[\"publish year\"].mode()[0], inplace=True)"
   ]
  },
  {
   "cell_type": "code",
   "execution_count": 47,
   "id": "9b1a8dc5",
   "metadata": {},
   "outputs": [],
   "source": [
    "df = df.astype({'id': 'int', 'publish year': 'int'})"
   ]
  },
  {
   "cell_type": "code",
   "execution_count": 48,
   "id": "e6b3224e",
   "metadata": {},
   "outputs": [
    {
     "data": {
      "text/html": [
       "<div>\n",
       "<style scoped>\n",
       "    .dataframe tbody tr th:only-of-type {\n",
       "        vertical-align: middle;\n",
       "    }\n",
       "\n",
       "    .dataframe tbody tr th {\n",
       "        vertical-align: top;\n",
       "    }\n",
       "\n",
       "    .dataframe thead th {\n",
       "        text-align: right;\n",
       "    }\n",
       "</style>\n",
       "<table border=\"1\" class=\"dataframe\">\n",
       "  <thead>\n",
       "    <tr style=\"text-align: right;\">\n",
       "      <th></th>\n",
       "      <th>id</th>\n",
       "      <th>name</th>\n",
       "      <th>author</th>\n",
       "      <th>publish year</th>\n",
       "      <th>genres</th>\n",
       "      <th>summary</th>\n",
       "    </tr>\n",
       "  </thead>\n",
       "  <tbody>\n",
       "    <tr>\n",
       "      <th>0</th>\n",
       "      <td>620</td>\n",
       "      <td>Animal Farm</td>\n",
       "      <td>George Orwell</td>\n",
       "      <td>1945</td>\n",
       "      <td>Roman à clef, Satire, Children's literature, S...</td>\n",
       "      <td>Old Major, the old boar on the Manor Farm, ca...</td>\n",
       "    </tr>\n",
       "    <tr>\n",
       "      <th>1</th>\n",
       "      <td>843</td>\n",
       "      <td>A Clockwork Orange</td>\n",
       "      <td>Anthony Burgess</td>\n",
       "      <td>1962</td>\n",
       "      <td>Science Fiction, Novella, Speculative fiction,...</td>\n",
       "      <td>Alex, a teenager living in near-future Englan...</td>\n",
       "    </tr>\n",
       "    <tr>\n",
       "      <th>2</th>\n",
       "      <td>986</td>\n",
       "      <td>The Plague</td>\n",
       "      <td>Albert Camus</td>\n",
       "      <td>1947</td>\n",
       "      <td>Existentialism, Fiction, Absurdist fiction, Novel</td>\n",
       "      <td>The text of The Plague is divided into five p...</td>\n",
       "    </tr>\n",
       "    <tr>\n",
       "      <th>3</th>\n",
       "      <td>1756</td>\n",
       "      <td>An Enquiry Concerning Human Understanding</td>\n",
       "      <td>David Hume</td>\n",
       "      <td>2007</td>\n",
       "      <td>NaN</td>\n",
       "      <td>The argument of the Enquiry proceeds by a ser...</td>\n",
       "    </tr>\n",
       "    <tr>\n",
       "      <th>4</th>\n",
       "      <td>2080</td>\n",
       "      <td>A Fire Upon the Deep</td>\n",
       "      <td>Vernor Vinge</td>\n",
       "      <td>2007</td>\n",
       "      <td>Hard science fiction, Science Fiction, Specula...</td>\n",
       "      <td>The novel posits that space around the Milky ...</td>\n",
       "    </tr>\n",
       "  </tbody>\n",
       "</table>\n",
       "</div>"
      ],
      "text/plain": [
       "     id                                       name           author  \\\n",
       "0   620                                Animal Farm    George Orwell   \n",
       "1   843                         A Clockwork Orange  Anthony Burgess   \n",
       "2   986                                 The Plague     Albert Camus   \n",
       "3  1756  An Enquiry Concerning Human Understanding       David Hume   \n",
       "4  2080                       A Fire Upon the Deep     Vernor Vinge   \n",
       "\n",
       "   publish year                                             genres  \\\n",
       "0          1945  Roman à clef, Satire, Children's literature, S...   \n",
       "1          1962  Science Fiction, Novella, Speculative fiction,...   \n",
       "2          1947  Existentialism, Fiction, Absurdist fiction, Novel   \n",
       "3          2007                                                NaN   \n",
       "4          2007  Hard science fiction, Science Fiction, Specula...   \n",
       "\n",
       "                                             summary  \n",
       "0   Old Major, the old boar on the Manor Farm, ca...  \n",
       "1   Alex, a teenager living in near-future Englan...  \n",
       "2   The text of The Plague is divided into five p...  \n",
       "3   The argument of the Enquiry proceeds by a ser...  \n",
       "4   The novel posits that space around the Milky ...  "
      ]
     },
     "execution_count": 48,
     "metadata": {},
     "output_type": "execute_result"
    }
   ],
   "source": [
    "df.head()"
   ]
  },
  {
   "cell_type": "markdown",
   "id": "d64e734c",
   "metadata": {},
   "source": [
    "### Cleaning functions:"
   ]
  },
  {
   "cell_type": "code",
   "execution_count": 49,
   "id": "f354e34b",
   "metadata": {},
   "outputs": [],
   "source": [
    "def lower_case(text):\n",
    "    return df.applymap(lambda x: x.lower() if isinstance(x, str) else x)"
   ]
  },
  {
   "cell_type": "code",
   "execution_count": 50,
   "id": "257f08e2",
   "metadata": {},
   "outputs": [],
   "source": [
    "def remove_numbers(text):\n",
    "    return df.applymap(lambda x: re.sub(r'\\d+', '', x) if isinstance(x, str) else x)"
   ]
  },
  {
   "cell_type": "code",
   "execution_count": 51,
   "id": "ac391d9d",
   "metadata": {},
   "outputs": [],
   "source": [
    "def remove_punctuation(text):\n",
    "    translator = str.maketrans('', '', string.punctuation)\n",
    "    return df.applymap(lambda x: x.translate(translator) if isinstance(x, str) else x)"
   ]
  },
  {
   "cell_type": "code",
   "execution_count": 52,
   "id": "cff43b78",
   "metadata": {},
   "outputs": [],
   "source": [
    "def remove_whitespace(text):\n",
    "    return df.applymap(lambda x: \" \".join(x.split()) if isinstance(x, str) else x)"
   ]
  },
  {
   "cell_type": "code",
   "execution_count": 53,
   "id": "b9bc65ca",
   "metadata": {},
   "outputs": [],
   "source": [
    "def remove_stopwords(text):\n",
    "    stop_words = set(stopwords.words('english'))\n",
    "    words = text.split()\n",
    "    filtered_words = [word for word in words if word.lower() not in stop_words]\n",
    "    return ' '.join(filtered_words)"
   ]
  },
  {
   "cell_type": "code",
   "execution_count": 54,
   "id": "9164f68a",
   "metadata": {},
   "outputs": [],
   "source": [
    "def tokenization(df):\n",
    "    return df.applymap(lambda x: word_tokenize(x) if isinstance(x, str) else x)"
   ]
  },
  {
   "cell_type": "code",
   "execution_count": 55,
   "id": "425edf7e",
   "metadata": {},
   "outputs": [],
   "source": [
    "def stemming(text):\n",
    "    singles = [stemmer.stem(word) for word in text]\n",
    "    return singles"
   ]
  },
  {
   "cell_type": "code",
   "execution_count": 56,
   "id": "59c94762",
   "metadata": {},
   "outputs": [],
   "source": [
    "def lemmatizing(text):\n",
    "    lemm_text = [lemmatizer.lemmatize(word) for word in text]\n",
    "    return lemm_text"
   ]
  },
  {
   "cell_type": "code",
   "execution_count": 57,
   "id": "7976a15a",
   "metadata": {},
   "outputs": [],
   "source": [
    "textual_columns = df.select_dtypes(include=['object']).columns\n",
    "df_text = df[textual_columns]"
   ]
  },
  {
   "cell_type": "markdown",
   "id": "701c84e1",
   "metadata": {},
   "source": [
    "### Cleaning df_text:"
   ]
  },
  {
   "cell_type": "code",
   "execution_count": 58,
   "id": "bb178cc4",
   "metadata": {},
   "outputs": [],
   "source": [
    "df_text = lower_case(df_text)\n",
    "df_text = remove_numbers(df_text) # is it necessary?\n",
    "df_text = remove_punctuation(df_text)\n",
    "df_text = remove_whitespace(df_text)\n",
    "df_text = df_text.applymap(lambda x: remove_stopwords(x) if isinstance(x, str) else x)\n",
    "df_text = tokenization(df_text)\n",
    "df_text = df_text.applymap(lambda x: stemming(x) if isinstance(x, list) else [])"
   ]
  },
  {
   "cell_type": "code",
   "execution_count": 59,
   "id": "f616f489",
   "metadata": {},
   "outputs": [],
   "source": [
    "def summarizer(text):\n",
    "    freqTable = dict() \n",
    "    for word in text:\n",
    "        word = word.lower() \n",
    "        stopWords = set(stopwords.words('english'))\n",
    "        if word in stopWords: \n",
    "            continue\n",
    "        if word in freqTable: \n",
    "            freqTable[word] += 1\n",
    "        else: \n",
    "            freqTable[word] = 1\n",
    "   \n",
    "    # Creating a dictionary to keep the score of each sentence \n",
    "    sentences = sent_tokenize(text) \n",
    "    sentenceValue = dict() \n",
    "   \n",
    "    for sentence in sentences: \n",
    "        for word, freq in freqTable.items(): \n",
    "            if word in sentence.lower(): \n",
    "                if sentence in sentenceValue: \n",
    "                    sentenceValue[sentence] += freq \n",
    "                else: \n",
    "                    sentenceValue[sentence] = freq \n",
    "   \n",
    "    sumValues = 0\n",
    "    for sentence in sentenceValue: \n",
    "        sumValues += sentenceValue[sentence] \n",
    "   \n",
    "    # Average value of a sentence from the original text \n",
    "   \n",
    "    average = int(sumValues / len(sentenceValue)) \n",
    "   \n",
    "    # Storing sentences into our summary. \n",
    "    summary = ''\n",
    "    coef = 1.2        \n",
    "    while (summary == '') and (coef >= 1):\n",
    "        for sentence in sentences: \n",
    "            if (sentence in sentenceValue) and (sentenceValue[sentence] > (coef * average)): \n",
    "                summary += \" \" + sentence\n",
    "        coef -= 0.01\n",
    "    \n",
    "    return summary"
   ]
  },
  {
   "cell_type": "markdown",
   "id": "6fc70920",
   "metadata": {},
   "source": [
    "### summarizing the books' summary:"
   ]
  },
  {
   "cell_type": "code",
   "execution_count": null,
   "id": "3652a8a8",
   "metadata": {},
   "outputs": [],
   "source": [
    "df_output[\"condensed summaries\"] = df_output[\"summary\"].apply(lambda x: summarizer(x))"
   ]
  },
  {
   "cell_type": "markdown",
   "id": "0602d7e8",
   "metadata": {},
   "source": [
    "## Conclusion from the EDA on Text Data:\n",
    "### 1- The most repeated book name is : \"Nemesis\".\n",
    "### 2- Agatha Christie is the author with the most published books.\n",
    "### 3- Most of the books were published in 2007."
   ]
  }
 ],
 "metadata": {
  "kernelspec": {
   "display_name": "Python 3 (ipykernel)",
   "language": "python",
   "name": "python3"
  },
  "language_info": {
   "codemirror_mode": {
    "name": "ipython",
    "version": 3
   },
   "file_extension": ".py",
   "mimetype": "text/x-python",
   "name": "python",
   "nbconvert_exporter": "python",
   "pygments_lexer": "ipython3",
   "version": "3.9.13"
  }
 },
 "nbformat": 4,
 "nbformat_minor": 5
}
